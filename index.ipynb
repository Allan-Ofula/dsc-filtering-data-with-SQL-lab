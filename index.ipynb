{
 "cells": [
  {
   "cell_type": "markdown",
   "metadata": {},
   "source": [
    "# Filtering Data with SQL - Lab"
   ]
  },
  {
   "cell_type": "markdown",
   "metadata": {},
   "source": [
    "## Introduction \n",
    "\n",
    "NASA wants to go to Mars! Before they build their rocket, NASA needs to track information about all of the planets in the Solar System. In this lab, you'll practice querying the database with various `SELECT` statements. This will include selecting different columns and implementing other SQL clauses like `WHERE` to return the data desired."
   ]
  },
  {
   "cell_type": "markdown",
   "metadata": {},
   "source": [
    "<img src=\"https://raw.githubusercontent.com/learn-co-curriculum/dsc-filtering-lab-v2-4/master/images/planets.png\" alt=\"image of solar system\" width=\"600\">"
   ]
  },
  {
   "cell_type": "markdown",
   "metadata": {},
   "source": [
    "## Objectives\n",
    "\n",
    "You will practice the following:\n",
    "\n",
    "* Retrieve a subset of records from a table using a `WHERE` clause\n",
    "* Filter results using conditional operators such as `BETWEEN`, `IS NULL`, and `LIKE`\n",
    "* Apply an aggregate function to the result of a filtered query"
   ]
  },
  {
   "cell_type": "markdown",
   "metadata": {},
   "source": [
    "## Connecting to the Database\n",
    "\n",
    "To get started, import `sqlite3` as well as `pandas` for conveniently displaying results. Then, connect to the SQLite database located at `planets.db`. "
   ]
  },
  {
   "cell_type": "code",
   "execution_count": 6,
   "metadata": {},
   "outputs": [],
   "source": [
    "# Your code here\n",
    "import sqlite3\n",
    "import pandas as pd\n",
    "\n",
    "# Connecting to the database\n",
    "conn = sqlite3.connect(\"planets.db\")\n",
    "cur = conn.cursor()"
   ]
  },
  {
   "cell_type": "markdown",
   "metadata": {},
   "source": [
    "## Database Schema\n",
    "\n",
    "This database contains a single table, `planets`. This is the schema:\n",
    "\n",
    "```\n",
    "CREATE TABLE planets (\n",
    "  id INTEGER PRIMARY KEY,\n",
    "  name TEXT,\n",
    "  color TEXT,\n",
    "  num_of_moons INTEGER,\n",
    "  mass REAL,\n",
    "  rings BOOLEAN\n",
    ");\n",
    "```\n",
    "\n",
    "The data looks something like this:\n",
    "\n",
    "| id | name    | color      | num_of_moons | mass   | rings |\n",
    "| -- | ------- | ---------- | ------------ | ------ | ----- |\n",
    "| 1  | Mercury | gray       | 0            | 0.55   | FALSE |\n",
    "| 2  | Venus   | yellow     | 0            | 0.82   | FALSE |\n",
    "| 3  | Earth   | blue       | 1            | 1.00   | FALSE |\n",
    "| 4  | Mars    | red        | 2            | 0.11   | FALSE |\n",
    "| 5  | Jupiter | orange     | 67           | 317.90 | FALSE |\n",
    "| 6  | Saturn  | hazel      | 62           | 95.19  | TRUE  |\n",
    "| 7  | Uranus  | light blue | 27           | 14.54  | TRUE  |\n",
    "| 8  | Neptune | dark blue  | 14           | 17.15  | TRUE  |"
   ]
  },
  {
   "cell_type": "markdown",
   "metadata": {},
   "source": [
    "## SQL Queries\n",
    "\n",
    "Write SQL queries for each of the statements below using the same pandas wrapping syntax from the previous lesson."
   ]
  },
  {
   "cell_type": "markdown",
   "metadata": {},
   "source": [
    "### 1. Select just the `name` and `color` of each planet"
   ]
  },
  {
   "cell_type": "code",
   "execution_count": 10,
   "metadata": {},
   "outputs": [],
   "source": [
    "# Helper function to execute and fetch results\n",
    "def fetch_results(query):\n",
    "    cur.execute(query)\n",
    "    return cur.fetchall()\n",
    "    for row in results:\n",
    "        print(row)\n",
    "    return results   "
   ]
  },
  {
   "cell_type": "code",
   "execution_count": 11,
   "metadata": {},
   "outputs": [
    {
     "name": "stdout",
     "output_type": "stream",
     "text": [
      "[('Mercury', 'gray'), ('Venus', 'yellow'), ('Earth', 'blue'), ('Mars', 'red'), ('Jupiter', 'orange'), ('Saturn', 'hazel'), ('Uranus', 'light blue'), ('Neptune', 'dark blue')]\n"
     ]
    }
   ],
   "source": [
    "# Your code here\n",
    "\n",
    "query1 = \"SELECT name, color FROM planets;\"\n",
    "name_colour = fetch_results(query1)\n",
    "print(name_colour)"
   ]
  },
  {
   "cell_type": "markdown",
   "metadata": {},
   "source": [
    "### 2. Select all columns for each planet whose `num_of_moons` is 0"
   ]
  },
  {
   "cell_type": "code",
   "execution_count": 13,
   "metadata": {},
   "outputs": [
    {
     "name": "stdout",
     "output_type": "stream",
     "text": [
      "Planets with No Moons:\n",
      " [(1, 'Mercury', 'gray', 0, 0.55, 0), (2, 'Venus', 'yellow', 0, 0.82, 0)]\n"
     ]
    }
   ],
   "source": [
    "# Your code here\n",
    "\n",
    "# Selecting planet whose num_of_moons is 0\n",
    "query2 = \"SELECT * FROM planets WHERE num_of_moons = 0;\"\n",
    "num_of_moons = fetch_results(query2)\n",
    "print(\"Planets with No Moons:\\n\", num_of_moons)"
   ]
  },
  {
   "cell_type": "markdown",
   "metadata": {},
   "source": [
    "### 3. Select the `name` and `mass` of each planet whose `name` has exactly 7 letters"
   ]
  },
  {
   "cell_type": "code",
   "execution_count": 15,
   "metadata": {},
   "outputs": [
    {
     "name": "stdout",
     "output_type": "stream",
     "text": [
      "Planets with 7-letter Names:\n",
      " [('Mercury', 0.55), ('Jupiter', 317.9), ('Neptune', 17.15)]\n"
     ]
    }
   ],
   "source": [
    "# Your code here\n",
    "\n",
    "# name and mass of each planet whose name has exactly 7 letters\n",
    "query3 = \"SELECT name, mass FROM planets WHERE LENGTH(name) = 7;\"\n",
    "name_mass = fetch_results(query3)\n",
    "print(\"Planets with 7-letter Names:\\n\", name_mass)"
   ]
  },
  {
   "cell_type": "markdown",
   "metadata": {},
   "source": [
    "### 4. Select all columns for each planet whose `mass` is greater than 1.00"
   ]
  },
  {
   "cell_type": "code",
   "execution_count": 17,
   "metadata": {},
   "outputs": [
    {
     "name": "stdout",
     "output_type": "stream",
     "text": [
      "Planets with Mass > 1.00:\n",
      " [(5, 'Jupiter', 'orange', 68, 317.9, 0), (6, 'Saturn', 'hazel', 62, 95.19, 1), (7, 'Uranus', 'light blue', 27, 14.54, 1), (8, 'Neptune', 'dark blue', 14, 17.15, 1)]\n"
     ]
    }
   ],
   "source": [
    "# Your code here\n",
    "\n",
    "# Selecting all columns for each planet whose mass > 1.00\n",
    "query4 = \"SELECT * FROM planets WHERE mass > 1.00;\"\n",
    "mass_greater1 = fetch_results(query4)\n",
    "print(\"Planets with Mass > 1.00:\\n\", mass_greater1)"
   ]
  },
  {
   "cell_type": "markdown",
   "metadata": {},
   "source": [
    "### 5. Select the `name` and `mass` of each planet whose `mass` is less than or equal to 1.00"
   ]
  },
  {
   "cell_type": "code",
   "execution_count": 19,
   "metadata": {},
   "outputs": [
    {
     "name": "stdout",
     "output_type": "stream",
     "text": [
      "Planets with Mass <= 1.00:\n",
      " [('Mercury', 0.55), ('Venus', 0.82), ('Earth', 1.0), ('Mars', 0.11)]\n"
     ]
    }
   ],
   "source": [
    "# Your code here\n",
    "\n",
    "# Selecting the name and mass of each planet whose mass <= 1.00\n",
    "query5 = \"SELECT name, mass FROM planets WHERE mass <= 1.00;\"\n",
    "name_mass_less1 = fetch_results(query5)\n",
    "print(\"Planets with Mass <= 1.00:\\n\", name_mass_less1)"
   ]
  },
  {
   "cell_type": "markdown",
   "metadata": {},
   "source": [
    "### 6. Select the `name` and `mass` of each planet whose `mass` is between 0 and 50"
   ]
  },
  {
   "cell_type": "code",
   "execution_count": 21,
   "metadata": {},
   "outputs": [
    {
     "name": "stdout",
     "output_type": "stream",
     "text": [
      "Planets with Mass Between 0 and 50:\n",
      " [('Mercury', 0.55), ('Venus', 0.82), ('Earth', 1.0), ('Mars', 0.11), ('Uranus', 14.54), ('Neptune', 17.15)]\n"
     ]
    }
   ],
   "source": [
    "# Your code here\n",
    "\n",
    "# Selecting the name and mass of each planet whose mass is between 0 and 50\n",
    "query6 = \"SELECT name, mass FROM planets WHERE mass BETWEEN 0 AND 50;\"\n",
    "name_mass0_50 = fetch_results(query6)\n",
    "print(\"Planets with Mass Between 0 and 50:\\n\", name_mass0_50)"
   ]
  },
  {
   "cell_type": "markdown",
   "metadata": {},
   "source": [
    "### 7. Select all columns for planets that have at least one moon and a `mass` less than 1.00\n",
    "\n",
    "***Hint:*** You can use `AND` to chain together two conditions in SQL, similar to `and` in Python"
   ]
  },
  {
   "cell_type": "code",
   "execution_count": 23,
   "metadata": {},
   "outputs": [
    {
     "name": "stdout",
     "output_type": "stream",
     "text": [
      "Planets with Moons and Mass < 1.00:\n",
      " [(4, 'Mars', 'red', 2, 0.11, 0)]\n"
     ]
    }
   ],
   "source": [
    "# Your code here\n",
    "\n",
    "# Selecting all columns for planets that have at least one moon and a mass < 1.00\n",
    "query7 = \"SELECT * FROM planets WHERE num_of_moons >= 1 AND mass < 1.00;\"\n",
    "moon_mass_less1 = fetch_results(query7)\n",
    "print(\"Planets with Moons and Mass < 1.00:\\n\", moon_mass_less1)"
   ]
  },
  {
   "cell_type": "markdown",
   "metadata": {},
   "source": [
    "### 8. Select the `name` and `color` of planets that have a `color` containing the string \"blue\""
   ]
  },
  {
   "cell_type": "code",
   "execution_count": 25,
   "metadata": {},
   "outputs": [
    {
     "name": "stdout",
     "output_type": "stream",
     "text": [
      "Planets with 'blue' in Color:\n",
      " [('Earth', 'blue'), ('Uranus', 'light blue'), ('Neptune', 'dark blue')]\n"
     ]
    }
   ],
   "source": [
    "# Your code here\n",
    "\n",
    "# Selecting the name and color of planets that have a color containing the string \"blue\"\n",
    "query8 = \"SELECT name, color FROM planets WHERE color LIKE '%blue%';\"\n",
    "name_colour_blue = fetch_results(query8)\n",
    "print(\"Planets with 'blue' in Color:\\n\", name_colour_blue)"
   ]
  },
  {
   "cell_type": "markdown",
   "metadata": {},
   "source": [
    "### 9. Select the count of planets that don't have rings as `planets_without_rings`\n",
    "\n",
    "Note: even though the schema states that `rings` is a `BOOLEAN` and the example table shows values `TRUE` and `FALSE`, SQLite does not actually support booleans natively. From the [documentation](https://www.sqlite.org/datatype3.html#boolean_datatype):\n",
    "\n",
    "> SQLite does not have a separate Boolean storage class. Instead, Boolean values are stored as integers 0 (false) and 1 (true)."
   ]
  },
  {
   "cell_type": "code",
   "execution_count": 27,
   "metadata": {},
   "outputs": [
    {
     "name": "stdout",
     "output_type": "stream",
     "text": [
      "Count of Planets Without Rings:\n",
      " [(5,)]\n"
     ]
    }
   ],
   "source": [
    "# Your code here\n",
    "\n",
    "# Selecting count of planets that don't have rings\n",
    "query9 = \"SELECT COUNT(*) AS planets_without_rings FROM planets WHERE rings = 0;\"\n",
    "planets_without_rings = fetch_results(query9)\n",
    "print(\"Count of Planets Without Rings:\\n\", planets_without_rings)"
   ]
  },
  {
   "cell_type": "markdown",
   "metadata": {},
   "source": [
    "### 10. Select the name of all planets, along with a value `has_rings` that returns \"Yes\" if the planet does have rings, and \"No\" if it does not"
   ]
  },
  {
   "cell_type": "code",
   "execution_count": 29,
   "metadata": {},
   "outputs": [
    {
     "name": "stdout",
     "output_type": "stream",
     "text": [
      "Planets and Whether They Have Rings:\n",
      " [('Mercury', 'No'), ('Venus', 'No'), ('Earth', 'No'), ('Mars', 'No'), ('Jupiter', 'No'), ('Saturn', 'Yes'), ('Uranus', 'Yes'), ('Neptune', 'Yes')]\n"
     ]
    }
   ],
   "source": [
    "# Your code here\n",
    "\n",
    "# Selecting the name of all planets, along with a value has_rings that returns \"Yes\" if the planet does have rings, and \"No\" if it does not\n",
    "query10 = '''\n",
    "SELECT name, \n",
    "       CASE WHEN rings = 1 THEN 'Yes' ELSE 'No' END AS has_rings \n",
    "FROM planets;\n",
    "'''\n",
    "has_rings = fetch_results(query10)\n",
    "print(\"Planets and Whether They Have Rings:\\n\", has_rings)"
   ]
  },
  {
   "cell_type": "markdown",
   "metadata": {},
   "source": [
    "## Summary"
   ]
  },
  {
   "cell_type": "markdown",
   "metadata": {},
   "source": [
    "Congratulations! NASA is one step closer to embarking upon its mission to Mars. In this lab, You practiced writing `SELECT` statements that query a single table to get specific information. You also used other clauses and specified column names to cherry-pick the data we wanted to retrieve. "
   ]
  }
 ],
 "metadata": {
  "kernelspec": {
   "display_name": "Python [conda env:base] *",
   "language": "python",
   "name": "conda-base-py"
  },
  "language_info": {
   "codemirror_mode": {
    "name": "ipython",
    "version": 3
   },
   "file_extension": ".py",
   "mimetype": "text/x-python",
   "name": "python",
   "nbconvert_exporter": "python",
   "pygments_lexer": "ipython3",
   "version": "3.12.3"
  },
  "toc": {
   "base_numbering": 1,
   "nav_menu": {},
   "number_sections": true,
   "sideBar": true,
   "skip_h1_title": false,
   "title_cell": "Table of Contents",
   "title_sidebar": "Contents",
   "toc_cell": false,
   "toc_position": {},
   "toc_section_display": true,
   "toc_window_display": false
  }
 },
 "nbformat": 4,
 "nbformat_minor": 4
}
